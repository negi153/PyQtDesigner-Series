{
 "cells": [
  {
   "cell_type": "code",
   "execution_count": 1,
   "metadata": {},
   "outputs": [],
   "source": [
    "import pandas as pd"
   ]
  },
  {
   "cell_type": "code",
   "execution_count": 2,
   "metadata": {},
   "outputs": [],
   "source": [
    "df = pd.read_csv('task_details.csv')"
   ]
  },
  {
   "cell_type": "code",
   "execution_count": 3,
   "metadata": {},
   "outputs": [
    {
     "data": {
      "text/html": [
       "<div>\n",
       "<style scoped>\n",
       "    .dataframe tbody tr th:only-of-type {\n",
       "        vertical-align: middle;\n",
       "    }\n",
       "\n",
       "    .dataframe tbody tr th {\n",
       "        vertical-align: top;\n",
       "    }\n",
       "\n",
       "    .dataframe thead th {\n",
       "        text-align: right;\n",
       "    }\n",
       "</style>\n",
       "<table border=\"1\" class=\"dataframe\">\n",
       "  <thead>\n",
       "    <tr style=\"text-align: right;\">\n",
       "      <th></th>\n",
       "      <th>UNIQUE TASK NUMBER</th>\n",
       "      <th>TASK NAME</th>\n",
       "      <th>DESCRIPTION</th>\n",
       "      <th>CREATION DATE</th>\n",
       "      <th>STARTED DATE</th>\n",
       "      <th>COMPLETION DATE</th>\n",
       "      <th>STATUS</th>\n",
       "      <th>DAYS LEFT</th>\n",
       "    </tr>\n",
       "  </thead>\n",
       "  <tbody>\n",
       "    <tr>\n",
       "      <th>0</th>\n",
       "      <td>1</td>\n",
       "      <td>pyspark</td>\n",
       "      <td>lex</td>\n",
       "      <td>10-11-2022</td>\n",
       "      <td>NaN</td>\n",
       "      <td>21-11-2022</td>\n",
       "      <td>Not Started</td>\n",
       "      <td>NaN</td>\n",
       "    </tr>\n",
       "    <tr>\n",
       "      <th>1</th>\n",
       "      <td>2</td>\n",
       "      <td>aws developer associate</td>\n",
       "      <td>aws partner</td>\n",
       "      <td>10-11-2022</td>\n",
       "      <td>NaN</td>\n",
       "      <td>12-12-2022</td>\n",
       "      <td>Not Started</td>\n",
       "      <td>NaN</td>\n",
       "    </tr>\n",
       "  </tbody>\n",
       "</table>\n",
       "</div>"
      ],
      "text/plain": [
       "   UNIQUE TASK NUMBER                TASK NAME  DESCRIPTION CREATION DATE  \\\n",
       "0                   1                  pyspark          lex    10-11-2022   \n",
       "1                   2  aws developer associate  aws partner    10-11-2022   \n",
       "\n",
       "   STARTED DATE COMPLETION DATE       STATUS  DAYS LEFT  \n",
       "0           NaN      21-11-2022  Not Started        NaN  \n",
       "1           NaN      12-12-2022  Not Started        NaN  "
      ]
     },
     "execution_count": 3,
     "metadata": {},
     "output_type": "execute_result"
    }
   ],
   "source": [
    "df"
   ]
  },
  {
   "cell_type": "code",
   "execution_count": 4,
   "metadata": {},
   "outputs": [
    {
     "data": {
      "text/plain": [
       "1"
      ]
     },
     "execution_count": 4,
     "metadata": {},
     "output_type": "execute_result"
    }
   ],
   "source": [
    "a = df[df['UNIQUE TASK NUMBER']==2].index[0]\n",
    "a"
   ]
  },
  {
   "cell_type": "code",
   "execution_count": 20,
   "metadata": {},
   "outputs": [
    {
     "data": {
      "text/html": [
       "<div>\n",
       "<style scoped>\n",
       "    .dataframe tbody tr th:only-of-type {\n",
       "        vertical-align: middle;\n",
       "    }\n",
       "\n",
       "    .dataframe tbody tr th {\n",
       "        vertical-align: top;\n",
       "    }\n",
       "\n",
       "    .dataframe thead th {\n",
       "        text-align: right;\n",
       "    }\n",
       "</style>\n",
       "<table border=\"1\" class=\"dataframe\">\n",
       "  <thead>\n",
       "    <tr style=\"text-align: right;\">\n",
       "      <th></th>\n",
       "      <th>UNIQUE TASK NUMBER</th>\n",
       "      <th>TASK NAME</th>\n",
       "      <th>DESCRIPTION</th>\n",
       "      <th>CREATION DATE</th>\n",
       "      <th>STARTED DATE</th>\n",
       "      <th>COMPLETION DATE</th>\n",
       "      <th>STATUS</th>\n",
       "      <th>DAYS LEFT</th>\n",
       "    </tr>\n",
       "  </thead>\n",
       "  <tbody>\n",
       "    <tr>\n",
       "      <th>0</th>\n",
       "      <td>1</td>\n",
       "      <td>5</td>\n",
       "      <td>5</td>\n",
       "      <td>08-11-2022</td>\n",
       "      <td>5.0</td>\n",
       "      <td>5</td>\n",
       "      <td>5</td>\n",
       "      <td>NaN</td>\n",
       "    </tr>\n",
       "  </tbody>\n",
       "</table>\n",
       "</div>"
      ],
      "text/plain": [
       "   UNIQUE TASK NUMBER TASK NAME DESCRIPTION CREATION DATE  STARTED DATE  \\\n",
       "0                   1         5           5    08-11-2022           5.0   \n",
       "\n",
       "  COMPLETION DATE STATUS  DAYS LEFT  \n",
       "0               5      5        NaN  "
      ]
     },
     "execution_count": 20,
     "metadata": {},
     "output_type": "execute_result"
    }
   ],
   "source": [
    "df.loc[a,['TASK NAME', 'DESCRIPTION', 'STARTED DATE', 'COMPLETION DATE', 'STATUS']] = [5,5,5,5,5]\n",
    "df"
   ]
  },
  {
   "cell_type": "code",
   "execution_count": null,
   "metadata": {},
   "outputs": [],
   "source": []
  }
 ],
 "metadata": {
  "kernelspec": {
   "display_name": "Python 3.7.0 ('pyenv')",
   "language": "python",
   "name": "python3"
  },
  "language_info": {
   "codemirror_mode": {
    "name": "ipython",
    "version": 3
   },
   "file_extension": ".py",
   "mimetype": "text/x-python",
   "name": "python",
   "nbconvert_exporter": "python",
   "pygments_lexer": "ipython3",
   "version": "3.7.0"
  },
  "orig_nbformat": 4,
  "vscode": {
   "interpreter": {
    "hash": "0e22e6ba6402c6b37deb24c0736010a98be65daa58b8d79c49a7c65b2cf9250e"
   }
  }
 },
 "nbformat": 4,
 "nbformat_minor": 2
}
